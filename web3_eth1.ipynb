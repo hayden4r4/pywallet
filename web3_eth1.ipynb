{
 "cells": [
  {
   "cell_type": "code",
   "execution_count": 223,
   "metadata": {},
   "outputs": [
    {
     "data": {
      "text/plain": [
       "'%.18f'"
      ]
     },
     "execution_count": 223,
     "metadata": {},
     "output_type": "execute_result"
    }
   ],
   "source": [
    "import json\n",
    "from web3 import Web3\n",
    "import pandas as pd\n",
    "import ast\n",
    "import time\n",
    "%precision 18"
   ]
  },
  {
   "cell_type": "code",
   "execution_count": 148,
   "metadata": {},
   "outputs": [],
   "source": [
    "with open('/mnt/c/blockchain/api_keys/metamask.json') as f:\n",
    "        maskdata = json.load(f)\n",
    "pubkey = maskdata['account1']['public']\n",
    "privkey = maskdata['account1']['private']\n",
    "\n",
    "pubkey2 = '0x83b8E4C91Cd770F2ef10105A5c00BC7b94279087'\n",
    "\n",
    "with open(\"./contract_address.json\") as f:\n",
    "    contract_address = json.load(f)\n",
    "\n",
    "with open(\"./erc20_ABI.json\") as f:\n",
    "    erc20_ABI = json.load(f)\n",
    "\n",
    "with open(\"./chain_ids.json\") as f:\n",
    "    chain_ids = json.load(f)"
   ]
  },
  {
   "cell_type": "code",
   "execution_count": 196,
   "metadata": {},
   "outputs": [],
   "source": [
    "class web3kit:\n",
    "    def connect(self, node='infura', network='mainnet', connection='HTTP'):\n",
    "        \"\"\"\n",
    "        Node: geth, infura\n",
    "        Network: mainnet, ropsten, rinkeby...\n",
    "        Connection: ipc, websocket, http\n",
    "        \"\"\"\n",
    "        self.node = node.lower()\n",
    "        self.network = network.lower()\n",
    "        self.connection = connection.lower()\n",
    "        if connection == 'ipc':\n",
    "            if self.node == 'infura':\n",
    "                    raise ValueError('Infure not available with connection type IPC')\n",
    "            else:\n",
    "                if self.network == 'mainnet':\n",
    "                        self.web3 = Web3(Web3.IPCProvider('~/.ethereum/geth.ipc'))\n",
    "                else:\n",
    "                    self.web3 = Web3(Web3.IPCProvider('~/.ethereum/geth' + network + '/geth.ipc'))\n",
    "\n",
    "        elif self.connection == 'websocket':\n",
    "            if self.node == 'infura':\n",
    "                with open('/mnt/c/blockchain/api_keys/infura.json') as f:\n",
    "                    self.infdata = json.load(f)\n",
    "                self.infurl = \"wss://\" + network + \".infura.io/ws/v3/\" + self.infdata['web3_eth1']['project_id']\n",
    "                self.web3 = Web3(Web3.WebsocketProvider(self.infurl))\n",
    "            else:\n",
    "                raise ValueError('Geth websocket not yet implemented')\n",
    "        \n",
    "        elif self.connection == 'http':\n",
    "            if self.node == 'infura':\n",
    "                with open('/mnt/c/blockchain/api_keys/infura.json') as f:\n",
    "                    self.infdata = json.load(f)\n",
    "                self.infurl = \"https://\" + network + \".infura.io/v3/\" + self.infdata['web3_eth1']['project_id']\n",
    "                self.web3 = Web3(Web3.HTTPProvider(self.infurl))\n",
    "            else:\n",
    "                raise ValueError('Geth HTTP not yet implemented')\n",
    "        else:\n",
    "            raise ValueError('Invalid connection type')\n",
    "            \n",
    "        return self.web3\n",
    "\n",
    "\n",
    "    def get_balance(self, token, public_address, contract_address_json, ABI, currency_for_quote='ether'):\n",
    "        \"\"\"\n",
    "        Get the balance of a particular token\n",
    "        \"\"\"\n",
    "        if not Web3.isAddress(public_address):\n",
    "            raise ValueError('The public address is not recognized as a valid format')\n",
    "        else:\n",
    "            if token == 'ETH':\n",
    "                self.wei = web3.eth.getBalance(public_address)\n",
    "                self.balance = float(web3.fromWei(self.wei, currency_for_quote))\n",
    "\n",
    "\n",
    "            else:\n",
    "                self.cpubkey = Web3.toChecksumAddress(public_address)\n",
    "                \n",
    "                try:\n",
    "                    self.contract_address_json = contract_address_json[token]\n",
    "                except Exception:\n",
    "                    raise ValueError('Specified coin not in contract_address json, please add it and try again')\n",
    "                self.ccontract_address = Web3.toChecksumAddress(self.contract_address_json)\n",
    "                self.contract = web3.eth.contract(self.ccontract_address, abi=ABI)\n",
    "                self.balance = self.contract.functions.balanceOf(self.cpubkey).call()\n",
    "            return self.balance\n",
    "\n",
    "    # Gas Fee Estimation\n",
    "    def gas_limiter(self, transaction_speed='average', custom_maxpriorityfee=None, basefeemultiple=2):\n",
    "        \"\"\"\n",
    "        Estimates priority fee and gets current base fee\n",
    "        to determine a reasonable maxFeePerGas for the\n",
    "        transaction.  Allows for a user specified\n",
    "        transaction_speed, which applied to the\n",
    "        maxpriorityfee to either increase/decrease\n",
    "        the tip to miners, speeding/slowing the\n",
    "        time to process the transaction.\n",
    "\n",
    "        transaction_speed: 'very_slow', 'slow', 'average', 'fast', 'custom_multiple'\n",
    "\n",
    "        very_slow = .5\n",
    "        slow = .75\n",
    "        average = 1\n",
    "        fast = 1.25\n",
    "\n",
    "        maxpriorityfee_est * transaction_speed = maxpriorityfee\n",
    "\n",
    "        If a custom_priorityfee is specified it will override\n",
    "        the default maxpriorityfee with the specified amount.\n",
    "        Must be entered in Wei.\n",
    "\n",
    "        maxfeepergas can be increased/decreased by specifying\n",
    "        by specifiying a custom basefeemultiple, default is 2.\n",
    "        This is since maxfeepergas = (basefeemultiple * currentbasefee)\n",
    "        + maxpriorityfeepergas\n",
    "        \"\"\"\n",
    "        # Pulls an estimate of current priority fees (miner fees) using Geth's calculation (look online for current info on how this is done)\n",
    "        if custom_maxpriorityfee:\n",
    "            self.maxpriorityfee = custom_maxpriorityfee\n",
    "        else:\n",
    "            if not isinstance(transaction_speed, str):\n",
    "                self.multiple = transaction_speed\n",
    "            else:\n",
    "                self.transaction_speed = transaction_speed.lower()\n",
    "                self.multiple_dict = {'very_slow': .5, 'slow': .75, 'average': 1, 'fast': 1.25}\n",
    "                if transaction_speed in self.multiple_dict:\n",
    "                    self.multiple = self.multiple_dict[transaction_speed]\n",
    "                else:\n",
    "                    raise ValueError('transaction_speed specified is not a recognized value')\n",
    "\n",
    "            # Pulls the current base fee from the next block after the pending one, the next block's base fee is predermined by the pending block and is therefore certain\n",
    "            self.maxpriorityfee_est = web3.eth.max_priority_fee\n",
    "            self.maxpriorityfee = int(self.maxpriorityfee_est * self.multiple)\n",
    "\n",
    "        self.currentbasefee = web3.toWei(web3.eth.fee_history(1, 'pending')['baseFeePerGas'][-1], 'gwei')\n",
    "        # This is the seemingly universally agreed upon formula for the maxFeePerGas (basefeemultiple defaults to 2, increase to raise maxfeepergas)\n",
    "        self.maxfeepergas = (basefeemultiple * self.currentbasefee) + self.maxpriorityfee\n",
    "        return (self.maxfeepergas, self.maxpriorityfee)\n",
    "\n",
    "    # Creating and sending transaction\n",
    "    def send_transaction(self, from_address, from_private_key, to_address, value, gas_tuple, token, contract_address=None, ABI=erc20_ABI, network='mainnet', gas_multiple=1):\n",
    "        \"\"\"\n",
    "        Creates and sends a transaction.\n",
    "        gas_tuple should be in format:\n",
    "            (maxFeePerGas, maxPriorityFeePerGas)\n",
    "        \n",
    "        \"\"\"\n",
    "        if network in chain_ids:\n",
    "            chainId = chain_ids[network]\n",
    "        else:\n",
    "            raise ValueError('Invalid network or network not in chain_ids.json')\n",
    "        self.tx = {\n",
    "            'nonce': web3.eth.get_transaction_count(from_address),\n",
    "            'to': to_address,\n",
    "            'value': value,\n",
    "            'gas': int(web3.eth.estimate_gas({'to': to_address, 'from': from_address, 'value': value}) * gas_multiple),\n",
    "            'maxFeePerGas': int(gas_tuple[0]),\n",
    "            'maxPriorityFeePerGas': int(gas_tuple[1]),\n",
    "            'chainId': chainId\n",
    "        }\n",
    "        if token.lower() != 'eth':\n",
    "            contract = web3.eth.contract(address=contract_address[token], abi=ABI)\n",
    "            del self.tx['to']\n",
    "            del self.tx['value']\n",
    "            self.tx = contract.functions.transfer(to_address, value).buildTransaction(self.tx)\n",
    "\n",
    "        self.signed_tx = web3.eth.account.signTransaction(self.tx, from_private_key)\n",
    "        self.tx_hash = web3.eth.sendRawTransaction(self.signed_tx.rawTransaction)\n",
    "        return self.tx_hash\n"
   ]
  },
  {
   "cell_type": "code",
   "execution_count": 146,
   "metadata": {},
   "outputs": [
    {
     "name": "stdout",
     "output_type": "stream",
     "text": [
      "True\n"
     ]
    }
   ],
   "source": [
    "node = 'infura'  # geth, infura\n",
    "network = 'ropsten' # mainnet, ropsten, rinkeby, polygon-mainnet\n",
    "connection = 'http' # HTTP, IPC, Websocket\n",
    "token = 'TTKN' # ETH, USDT, USDC, etc...\n",
    "currency_quote = 'ether'\n",
    "\n",
    "web3 = web3kit().connect(node, network, connection)\n",
    "print(web3.isConnected())"
   ]
  },
  {
   "cell_type": "code",
   "execution_count": 149,
   "metadata": {},
   "outputs": [],
   "source": [
    "balance1 = web3kit().get_balance(token, pubkey, contract_address, ABI=erc20_ABI, currency_for_quote='ether')\n",
    "balance2 = web3kit().get_balance(token, pubkey2, contract_address, ABI=erc20_ABI, currency_for_quote='ether')"
   ]
  },
  {
   "cell_type": "code",
   "execution_count": 150,
   "metadata": {},
   "outputs": [
    {
     "data": {
      "text/plain": [
       "(15200000000000000000000, 0)"
      ]
     },
     "execution_count": 150,
     "metadata": {},
     "output_type": "execute_result"
    }
   ],
   "source": [
    "(balance1, balance2)"
   ]
  },
  {
   "cell_type": "code",
   "execution_count": 231,
   "metadata": {},
   "outputs": [],
   "source": [
    "# Sending the transaction\n",
    "value = .01\n",
    "value = web3.toWei(value, 'ether')\n",
    "gas_tuple = web3kit().gas_limiter(transaction_speed='average')\n",
    "\n",
    "def try_tx(gas_multiple=1, increase_in_multiple=1, gas_multiple_limit=5):\n",
    "    \"\"\"\n",
    "    Will send transaction again if it fails due to\n",
    "    not enough gas, will increase by 100% until it fills.\n",
    "    It seems as though it will only fail the first time,\n",
    "    however if the second time is not a large enough gas\n",
    "    increase for the transaction to process successfully\n",
    "    the gas will be consumed and returned with not enough\n",
    "    gas error, so the increase_in_multiple should be sizeable\n",
    "    enough for the transaction to succeed on the second send.\n",
    "    A limit on this multiple can be placed in order to fail\n",
    "    the transaction if the gas_multiple >= gas_multiple_limit\n",
    "    so that the gas_multiple is not bid up excessively high\n",
    "    \"\"\"\n",
    "    try:\n",
    "        tx_hash = web3kit().send_transaction(from_address=pubkey, \n",
    "                                            from_private_key=privkey, \n",
    "                                            to_address=pubkey2, \n",
    "                                            value=value, \n",
    "                                            gas_tuple=gas_tuple,\n",
    "                                            token=token,\n",
    "                                            contract_address=contract_address,\n",
    "                                            ABI=erc20_ABI,\n",
    "                                            network=network,\n",
    "                                            gas_multiple=gas_multiple)\n",
    "        return tx_hash\n",
    "    except ValueError as e:\n",
    "        if ast.literal_eval(str(e))['message'] == 'intrinsic gas too low':\n",
    "            if gas_multiple >= gas_multiple_limit:\n",
    "                print(f'Gas multiplier has exceeded {gas_multiple_limit} yet gas is still not high enough to process transaction')\n",
    "            else:\n",
    "                time.sleep(3)\n",
    "                gas_multiple += increase_in_multiple\n",
    "                return try_tx(gas_multiple) \n",
    "tx_hash = try_tx()"
   ]
  },
  {
   "cell_type": "code",
   "execution_count": 233,
   "metadata": {},
   "outputs": [
    {
     "name": "stdout",
     "output_type": "stream",
     "text": [
      "Transaction Completed Successfully\n",
      "\n",
      "AttributeDict({'accessList': [], 'blockHash': HexBytes('0xc66f61bd0b83a6e8b12839dcc6261bb2a83eedf9828d34712d3c3e870854abe1'), 'blockNumber': 11288431, 'chainId': '0x3', 'from': '0xDB957d801E7b1a53D8E932f6D302012A25D8388B', 'gas': 42000, 'gasPrice': 2500000003, 'hash': HexBytes('0x0239b0dd909eac90b10d2397e2b67da064f0998ff4608d4709c93ac2c910d7ab'), 'input': '0xa9059cbb00000000000000000000000083b8e4c91cd770f2ef10105a5c00bc7b94279087000000000000000000000000000000000000000000000000002386f26fc10000', 'maxFeePerGas': 20499999995, 'maxPriorityFeePerGas': 2499999995, 'nonce': 17, 'r': HexBytes('0xd492083445f396fff123c6022c57712afe62bf11bba7a4d347e8f1b1aaf43d21'), 's': HexBytes('0x32a0697aa92abff5770f70286ebbc37d4eea68e9e35fbdf79cc76dd55c7a3109'), 'to': '0x48622AE6980908FdA700802DD5acd9bF5Ff1AE31', 'transactionIndex': 13, 'type': '0x2', 'v': 1, 'value': 0})\n",
      "\n",
      "The total fee for this transaction was: 0.000105000000126 ether.  Gas Refund is: 7539\n"
     ]
    }
   ],
   "source": [
    "# Getting post transaction info\n",
    "receipt = web3.eth.wait_for_transaction_receipt(tx_hash, timeout=1000)\n",
    "transaction_data = web3.eth.get_transaction(tx_hash)\n",
    "\n",
    "gas_used = receipt['gasUsed']\n",
    "gas = transaction_data['gas']\n",
    "\n",
    "if receipt['status'] == 1:\n",
    "    print('Transaction Completed Successfully\\n')\n",
    "elif receipt['status'] == 0:\n",
    "    if gas_used == gas:\n",
    "        print(f'Transaction Failed:\\nOut of Gas {gas_used}')\n",
    "print(transaction_data)\n",
    "\n",
    "total_fee = web3.fromWei(transaction_data['gas'] * transaction_data['gasPrice'], 'ether')\n",
    "print(f'\\nThe total fee for this transaction was: {total_fee} ether.  Gas Refund is: {gas - gas_used}')"
   ]
  },
  {
   "cell_type": "code",
   "execution_count": null,
   "metadata": {},
   "outputs": [],
   "source": []
  }
 ],
 "metadata": {
  "interpreter": {
   "hash": "963441cfd7a3ecdae0aa07ac574bb8318b63bfd59f9d46e6a35441c26e35ec03"
  },
  "kernelspec": {
   "display_name": "Python 3.9.7 64-bit",
   "name": "python3"
  },
  "language_info": {
   "codemirror_mode": {
    "name": "ipython",
    "version": 3
   },
   "file_extension": ".py",
   "mimetype": "text/x-python",
   "name": "python",
   "nbconvert_exporter": "python",
   "pygments_lexer": "ipython3",
   "version": "3.9.7"
  },
  "orig_nbformat": 4
 },
 "nbformat": 4,
 "nbformat_minor": 2
}
