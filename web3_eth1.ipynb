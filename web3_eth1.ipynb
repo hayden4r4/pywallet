{
 "cells": [
  {
   "cell_type": "code",
   "execution_count": 1,
   "metadata": {},
   "outputs": [
    {
     "data": {
      "text/plain": [
       "'%.30f'"
      ]
     },
     "execution_count": 1,
     "metadata": {},
     "output_type": "execute_result"
    }
   ],
   "source": [
    "import json\n",
    "from web3 import Web3\n",
    "import pandas as pd\n",
    "%precision 30"
   ]
  },
  {
   "cell_type": "code",
   "execution_count": 7,
   "metadata": {},
   "outputs": [],
   "source": [
    "with open('/mnt/c/blockchain/api_keys/metamask.json') as f:\n",
    "        maskdata = json.load(f)\n",
    "pubkey = maskdata['account1']['public']\n",
    "privkey = maskdata['account1']['private']\n",
    "\n",
    "pubkey2 = '0x83b8E4C91Cd770F2ef10105A5c00BC7b94279087'\n",
    "\n",
    "with open(\"./contract_address.json\") as f:\n",
    "    contractaddy = json.load(f)\n",
    "\n",
    "with open(\"./ABI.json\") as f:\n",
    "    ABI = json.load(f)"
   ]
  },
  {
   "cell_type": "code",
   "execution_count": 71,
   "metadata": {},
   "outputs": [],
   "source": [
    "class web3kit:\n",
    "    def connect(self, node='infura', network='mainnet', connection='HTTP'):\n",
    "        \"\"\"\n",
    "        Node: geth, infura\n",
    "        Network: mainnet, ropsten, rinkeby...\n",
    "        Connection: IPC, Websocket, HTTP\n",
    "        \"\"\"\n",
    "        \n",
    "        if connection == 'IPC':\n",
    "            if node == 'infura':\n",
    "                    raise ValueError('Infure not available with connection type IPC')\n",
    "            else:\n",
    "                if network == 'mainnet':\n",
    "                        self.web3 = Web3(Web3.IPCProvider('~/.ethereum/geth.ipc'))\n",
    "                else:\n",
    "                    self.web3 = Web3(Web3.IPCProvider('~/.ethereum/geth' + network + '/geth.ipc'))\n",
    "\n",
    "        elif connection == 'Websocket':\n",
    "            if node == 'infura':\n",
    "                with open('/mnt/c/blockchain/api_keys/infura.json') as f:\n",
    "                    self.infdata = json.load(f)\n",
    "                self.infurl = \"wss://\" + network + \".infura.io/ws/v3/\" + self.infdata['web3_eth1']['project_id']\n",
    "                self.web3 = Web3(Web3.WebsocketProvider(self.infurl))\n",
    "            else:\n",
    "                raise ValueError('Geth websocket not yet implemented')\n",
    "        \n",
    "        elif connection == 'HTTP':\n",
    "            if node == 'infura':\n",
    "                with open('/mnt/c/blockchain/api_keys/infura.json') as f:\n",
    "                    self.infdata = json.load(f)\n",
    "                self.infurl = \"https://\" + network + \".infura.io/v3/\" + self.infdata['web3_eth1']['project_id']\n",
    "                self.web3 = Web3(Web3.HTTPProvider(self.infurl))\n",
    "            else:\n",
    "                raise ValueError('Geth HTTP not yet implemented')\n",
    "        else:\n",
    "            raise ValueError('Invalid connection type')\n",
    "            \n",
    "        return self.web3\n",
    "\n",
    "\n",
    "    def get_balance(self, token, public_address, contract_address_json, ABI, currency_quote):\n",
    "        \"\"\"\n",
    "        Get the balance of a particular token\n",
    "        \"\"\"\n",
    "        if token == 'ether' or 'ETH':\n",
    "            self.wei = web3.eth.getBalance(public_address)\n",
    "\n",
    "        else:\n",
    "            self.cpubkey = Web3.toChecksumAddress(public_address)\n",
    "            \n",
    "            try:\n",
    "                self.contract_address_json = contract_address_json[token]\n",
    "            except Exception:\n",
    "                raise ValueError('Coin ABI not in ABI json')\n",
    "            self.ccontractaddy = Web3.toChecksumAddress(self.contract_address_json)\n",
    "            self.contract = web3.eth.contract(self.ccontractaddy, abi=ABI)\n",
    "            self.wei = self.contract.functions.balanceOf(self.cpubkey).call()\n",
    "        self.balance = float(web3.fromWei(self.wei, currency_quote))\n",
    "        return self.balance\n",
    "\n",
    "    # Gas Fee Estimation\n",
    "    def gas_limiter(self, transaction_speed='average', custom_maxpriorityfee=None):\n",
    "        \"\"\"\n",
    "        Estimates priority fee and gets current base fee\n",
    "        to determine a reasonable maxFeePerGas for the\n",
    "        transaction.  Allows for a user specified\n",
    "        transaction_speed, which applied to the\n",
    "        maxpriorityfee to either increase/decrease\n",
    "        the tip to miners, speeding/slowing the\n",
    "        time to process the transaction.\n",
    "\n",
    "        transaction_speed: 'slow', 'average', 'fast', 'custom_multiple'\n",
    "\n",
    "        slow = .75\n",
    "        average = 1\n",
    "        fast = 1.25\n",
    "\n",
    "        maxpriorityfee_est * transaction_speed = maxpriorityfee\n",
    "\n",
    "        If a custom_priorityfee is specified it will override\n",
    "        the default maxpriorityfee with the specified amount.\n",
    "        Must be entered in Wei.\n",
    "        \"\"\"\n",
    "        # Pulls an estimate of current priority fees (miner fees) using Geth's calculation (look online for current info on how this is done)\n",
    "        if custom_maxpriorityfee:\n",
    "            self.maxpriorityfee = custom_maxpriorityfee\n",
    "        else:\n",
    "            if type(transaction_speed) == int or float:\n",
    "                self.multiple = transaction_speed\n",
    "            else:\n",
    "                self.transaction_speed = transaction_speed.lower()\n",
    "                self.multiple_dict = {'slow': .75, 'average': 1, 'fast': 1.25}\n",
    "                if transaction_speed in self.multiple_dict:\n",
    "                    self.multiple = self.multiple_dict[transaction_speed]\n",
    "                else:\n",
    "                    raise ValueError('transaction_speed specified is not a recognized value')\n",
    "\n",
    "            # Pulls the current base fee from the next block after the pending one, the next block's base fee is predermined by the pending block and is therefore certain\n",
    "            self.maxpriorityfee_est = web3.eth.max_priority_fee\n",
    "            self.maxpriorityfee = self.maxpriorityfee_est * self.multiple\n",
    "\n",
    "        self.currentbasefee = web3.toWei(web3.eth.fee_history(1, 'pending')['baseFeePerGas'][-1], 'gwei')\n",
    "        # This is the agreed seemingly universally agreed upon formula for the maxFeePerGas\n",
    "        self.maxgasfee = (2 * self.currentbasefee) + self.maxpriorityfee\n",
    "        return (self.maxgasfee, self.maxpriorityfee)\n"
   ]
  },
  {
   "cell_type": "code",
   "execution_count": 3,
   "metadata": {},
   "outputs": [
    {
     "name": "stdout",
     "output_type": "stream",
     "text": [
      "True\n"
     ]
    }
   ],
   "source": [
    "node = 'infura'  # geth, infura\n",
    "network = 'ropsten' # mainnet, ropsten, rinkeby, polygon-mainnet\n",
    "connection = 'HTTP' # HTTP, IPC, Websocket\n",
    "token = 'ether' # ETH, USDT, USDC, etc...\n",
    "currency_quote = 'ether'\n",
    "\n",
    "web3 = web3kit().connect(node, network, connection)\n",
    "print(web3.isConnected())\n"
   ]
  },
  {
   "cell_type": "code",
   "execution_count": 8,
   "metadata": {},
   "outputs": [
    {
     "data": {
      "text/plain": [
       "5.198583868997070922546299698297"
      ]
     },
     "execution_count": 8,
     "metadata": {},
     "output_type": "execute_result"
    }
   ],
   "source": [
    "balance"
   ]
  },
  {
   "cell_type": "code",
   "execution_count": 32,
   "metadata": {},
   "outputs": [],
   "source": [
    "# Creating and sending transaction\n",
    "maxgas = web3kit().gas_limiter(transaction_speed='average')\n",
    "\n",
    "nonce = web3.eth.getTransactionCount(pubkey)\n",
    "tx = {\n",
    "    'nonce': nonce,\n",
    "    'to': pubkey2,\n",
    "    'value': web3.toWei(.1, 'ether'),\n",
    "    'maxFeePerGas': maxgas[0],\n",
    "    'maxPriorityFeePerGas': maxgas[1]\n",
    "}\n",
    "\n",
    "signed_tx = web3.eth.account.signTransaction(tx, privkey)\n",
    "tx_hash = web3.eth.sendRawTransaction(signed_tx.rawTransaction)"
   ]
  },
  {
   "cell_type": "code",
   "execution_count": 9,
   "metadata": {},
   "outputs": [
    {
     "ename": "NameError",
     "evalue": "name 'tx_hash' is not defined",
     "output_type": "error",
     "traceback": [
      "\u001b[0;31m---------------------------------------------------------------------------\u001b[0m",
      "\u001b[0;31mNameError\u001b[0m                                 Traceback (most recent call last)",
      "\u001b[0;32m/tmp/ipykernel_805/2900034554.py\u001b[0m in \u001b[0;36m<module>\u001b[0;34m\u001b[0m\n\u001b[1;32m      1\u001b[0m \u001b[0;31m# Getting post transaction info\u001b[0m\u001b[0;34m\u001b[0m\u001b[0;34m\u001b[0m\u001b[0m\n\u001b[0;32m----> 2\u001b[0;31m \u001b[0mtransaction_data\u001b[0m \u001b[0;34m=\u001b[0m \u001b[0mweb3\u001b[0m\u001b[0;34m.\u001b[0m\u001b[0meth\u001b[0m\u001b[0;34m.\u001b[0m\u001b[0mget_transaction\u001b[0m\u001b[0;34m(\u001b[0m\u001b[0mtx_hash\u001b[0m\u001b[0;34m)\u001b[0m\u001b[0;34m\u001b[0m\u001b[0;34m\u001b[0m\u001b[0m\n\u001b[0m\u001b[1;32m      3\u001b[0m \u001b[0mreceipt\u001b[0m \u001b[0;34m=\u001b[0m \u001b[0mweb3\u001b[0m\u001b[0;34m.\u001b[0m\u001b[0meth\u001b[0m\u001b[0;34m.\u001b[0m\u001b[0mget_transaction_receipt\u001b[0m\u001b[0;34m(\u001b[0m\u001b[0mtx_hash\u001b[0m\u001b[0;34m)\u001b[0m\u001b[0;34m\u001b[0m\u001b[0;34m\u001b[0m\u001b[0m\n\u001b[1;32m      4\u001b[0m \u001b[0;34m\u001b[0m\u001b[0m\n\u001b[1;32m      5\u001b[0m \u001b[0mfinal_gas\u001b[0m \u001b[0;34m=\u001b[0m \u001b[0mweb3\u001b[0m\u001b[0;34m.\u001b[0m\u001b[0mfromWei\u001b[0m\u001b[0;34m(\u001b[0m\u001b[0mreceipt\u001b[0m\u001b[0;34m[\u001b[0m\u001b[0;34m'gasUsed'\u001b[0m\u001b[0;34m]\u001b[0m\u001b[0;34m,\u001b[0m \u001b[0;34m'ether'\u001b[0m\u001b[0;34m)\u001b[0m\u001b[0;34m\u001b[0m\u001b[0;34m\u001b[0m\u001b[0m\n",
      "\u001b[0;31mNameError\u001b[0m: name 'tx_hash' is not defined"
     ]
    }
   ],
   "source": [
    "# Getting post transaction info\n",
    "\n",
    "receipt = web3.eth.wait_for_transaction_receipt(tx_hash, timeout=420)\n",
    "transaction_data = web3.eth.get_transaction(tx_hash)\n",
    "\n",
    "final_gas = web3.fromWei(receipt['gasUsed'], 'ether')\n",
    "\n",
    "value = tx['value']\n",
    "\n",
    "actual_cost = value + final_gas"
   ]
  },
  {
   "cell_type": "code",
   "execution_count": null,
   "metadata": {},
   "outputs": [],
   "source": []
  }
 ],
 "metadata": {
  "interpreter": {
   "hash": "963441cfd7a3ecdae0aa07ac574bb8318b63bfd59f9d46e6a35441c26e35ec03"
  },
  "kernelspec": {
   "display_name": "Python 3.9.7 64-bit",
   "name": "python3"
  },
  "language_info": {
   "codemirror_mode": {
    "name": "ipython",
    "version": 3
   },
   "file_extension": ".py",
   "mimetype": "text/x-python",
   "name": "python",
   "nbconvert_exporter": "python",
   "pygments_lexer": "ipython3",
   "version": "3.9.7"
  },
  "orig_nbformat": 4
 },
 "nbformat": 4,
 "nbformat_minor": 2
}
