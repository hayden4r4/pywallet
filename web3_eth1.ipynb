{
 "cells": [
  {
   "cell_type": "code",
   "execution_count": 75,
   "metadata": {},
   "outputs": [
    {
     "data": {
      "text/plain": [
       "'%.30f'"
      ]
     },
     "execution_count": 75,
     "metadata": {},
     "output_type": "execute_result"
    }
   ],
   "source": [
    "import json\n",
    "from web3 import Web3\n",
    "import pandas as pd\n",
    "%precision 30"
   ]
  },
  {
   "cell_type": "code",
   "execution_count": 13,
   "metadata": {},
   "outputs": [],
   "source": [
    "class web3kit:\n",
    "    def connect(self, node='infura', network='mainnet', connection='HTTP'):\n",
    "        \"\"\"\n",
    "        Node: geth, infura\n",
    "        Network: mainnet, ropsten, rinkeby...\n",
    "        Connection: IPC, Websocket, HTTP\n",
    "        \"\"\"\n",
    "        \n",
    "        if connection == 'IPC':\n",
    "            if node == 'infura':\n",
    "                    raise ValueError('Infure not available with connection type IPC')\n",
    "            else:\n",
    "                if network == 'mainnet':\n",
    "                        self.web3 = Web3(Web3.IPCProvider('~/.ethereum/geth.ipc'))\n",
    "                else:\n",
    "                    self.web3 = Web3(Web3.IPCProvider('~/.ethereum/geth' + network + '/geth.ipc'))\n",
    "\n",
    "        elif connection == 'Websocket':\n",
    "            if node == 'infura':\n",
    "                with open('/mnt/c/blockchain/api_keys/infura.json') as f:\n",
    "                    self.infdata = json.load(f)\n",
    "                self.infurl = \"wss://\" + network + \".infura.io/ws/v3/\" + self.infdata['web3_eth1']['project_id']\n",
    "                self.web3 = Web3(Web3.WebsocketProvider(self.infurl))\n",
    "            else:\n",
    "                raise ValueError('Geth websocket not yet implemented')\n",
    "        \n",
    "        elif connection == 'HTTP':\n",
    "            if node == 'infura':\n",
    "                with open('/mnt/c/blockchain/api_keys/infura.json') as f:\n",
    "                    self.infdata = json.load(f)\n",
    "                self.infurl = \"https://\" + network + \".infura.io/v3/\" + self.infdata['web3_eth1']['project_id']\n",
    "                self.web3 = Web3(Web3.HTTPProvider(self.infurl))\n",
    "            else:\n",
    "                raise ValueError('Geth HTTP not yet implemented')\n",
    "        else:\n",
    "            raise ValueError('Invalid connection type')\n",
    "            \n",
    "        return self.web3\n",
    "\n",
    "\n",
    "    def get_balance(self, token, public_address, contract_address_json, ABI, currency_quote):\n",
    "        \"\"\"\n",
    "        Get the balance of a particular token\n",
    "        \"\"\"\n",
    "        if token == 'ether' or 'ETH':\n",
    "            self.wei = web3.eth.getBalance(public_address)\n",
    "\n",
    "        else:\n",
    "            self.cpubkey = Web3.toChecksumAddress(public_address)\n",
    "            \n",
    "            try:\n",
    "                self.contract_address_json = contract_address_json[token]\n",
    "            except Exception:\n",
    "                raise ValueError('Coin ABI not in ABI json')\n",
    "            self.ccontractaddy = Web3.toChecksumAddress(self.contract_address_json)\n",
    "            self.contract = web3.eth.contract(self.ccontractaddy, abi=ABI)\n",
    "            self.wei = self.contract.functions.balanceOf(self.cpubkey).call()\n",
    "        self.balance = float(web3.fromWei(self.wei, currency_quote))\n",
    "        return self.balance\n"
   ]
  },
  {
   "cell_type": "code",
   "execution_count": 14,
   "metadata": {},
   "outputs": [
    {
     "name": "stdout",
     "output_type": "stream",
     "text": [
      "True\n"
     ]
    }
   ],
   "source": [
    "node = 'infura'  # geth, infura\n",
    "network = 'ropsten' # mainnet, ropsten, rinkeby, polygon-mainnet\n",
    "connection = 'HTTP' # HTTP, IPC, Websocket\n",
    "token = 'ether' # ETH, USDT, USDC, etc...\n",
    "currency_quote = 'ether'\n",
    "\n",
    "web3 = web3kit().connect(node, network, connection)\n",
    "print(web3.isConnected())\n"
   ]
  },
  {
   "cell_type": "code",
   "execution_count": 59,
   "metadata": {},
   "outputs": [],
   "source": [
    "with open('/mnt/c/blockchain/api_keys/metamask.json') as f:\n",
    "        maskdata = json.load(f)\n",
    "pubkey = maskdata['account1']['public']\n",
    "privkey = maskdata['account1']['private']\n",
    "\n",
    "pubkey2 = '0x83b8E4C91Cd770F2ef10105A5c00BC7b94279087'\n",
    "\n",
    "with open(\"./contract_address.json\") as f:\n",
    "    contractaddy = json.load(f)\n",
    "\n",
    "with open(\"./ABI.json\") as f:\n",
    "    ABI = json.load(f)\n",
    "\n",
    "balance = web3kit().get_balance(token, pubkey, contractaddy, ABI, currency_quote)"
   ]
  },
  {
   "cell_type": "code",
   "execution_count": 31,
   "metadata": {},
   "outputs": [
    {
     "data": {
      "text/plain": [
       "5.299633868997071"
      ]
     },
     "execution_count": 31,
     "metadata": {},
     "output_type": "execute_result"
    }
   ],
   "source": [
    "balance"
   ]
  },
  {
   "cell_type": "code",
   "execution_count": 32,
   "metadata": {},
   "outputs": [],
   "source": [
    "nonce = web3.eth.getTransactionCount(pubkey)\n",
    "tx = {\n",
    "    'nonce': nonce,\n",
    "    'to': pubkey2,\n",
    "    'value': web3.toWei(.1, 'ether'),\n",
    "    'gas': 5000000,\n",
    "    'gasPrice': web3.toWei('50', 'gwei') # web3.eth.getGasPrice()  find alternative to js function\n",
    "}\n",
    "\n",
    "signed_tx = web3.eth.account.signTransaction(tx, privkey)\n",
    "tx_hash = web3.eth.sendRawTransaction(signed_tx.rawTransaction)\n",
    "transaction_data = web3.eth.get_transaction(tx_hash)\n",
    "receipt = web3.eth.get_transaction_receipt(tx_hash)"
   ]
  },
  {
   "cell_type": "code",
   "execution_count": 91,
   "metadata": {},
   "outputs": [
    {
     "data": {
      "text/plain": [
       "Decimal('0.100000000000021')"
      ]
     },
     "execution_count": 91,
     "metadata": {},
     "output_type": "execute_result"
    }
   ],
   "source": [
    "final_fee = web3.fromWei(receipt['gasUsed'], 'ether')\n",
    "\n",
    "value = web3.fromWei(web3.eth.get_transaction(tx_hash)['value'], 'ether') # can also just get transaction value from tx\n",
    "\n",
    "actual_cost = value + final_fee"
   ]
  },
  {
   "cell_type": "code",
   "execution_count": 63,
   "metadata": {},
   "outputs": [],
   "source": [
    "# Use for gas estimates\n",
    "# gasprice_wei = web3.fromWei(tx['gasPrice'], 'ether')\n",
    "# fee =  #gas limit# * gasprice_wei   # in ether\n",
    "# final_value = float(web3.fromWei(tx['value'], 'ether')) - fee\n",
    "\n",
    "# actual_fee = (balance1 - balance2 - web3.from_wei(tx['value'], 'ether'))\n",
    "# actual_gas = actual_fee / web3.fromWei(tx['gasPrice'])"
   ]
  },
  {
   "cell_type": "code",
   "execution_count": 85,
   "metadata": {},
   "outputs": [
    {
     "data": {
      "text/plain": [
       "AttributeDict({'blockHash': HexBytes('0xffc9e0ac1f5d9de9f7212aeddcc5237f50154aca51f57bebff115911d2f1ca00'),\n",
       " 'blockNumber': 11276696,\n",
       " 'from': '0xDB957d801E7b1a53D8E932f6D302012A25D8388B',\n",
       " 'gas': 5000000,\n",
       " 'gasPrice': 50000000000,\n",
       " 'hash': HexBytes('0x1ef16afd8fcd154cd990ab87d8cd1c288ed5bf89b32707af6277d2847dbfd636'),\n",
       " 'input': '0x',\n",
       " 'nonce': 1,\n",
       " 'r': HexBytes('0x90d44403cc945e9c087dcd80406e4045d246feae0738b3a99979af2b6b7c2961'),\n",
       " 's': HexBytes('0x4e7f286bb174872806ca8235ed6f91cb533551870f0b3323ce0b0ad9519b5d72'),\n",
       " 'to': '0x83b8E4C91Cd770F2ef10105A5c00BC7b94279087',\n",
       " 'transactionIndex': 0,\n",
       " 'type': '0x0',\n",
       " 'v': 27,\n",
       " 'value': 100000000000000000})"
      ]
     },
     "execution_count": 85,
     "metadata": {},
     "output_type": "execute_result"
    }
   ],
   "source": []
  },
  {
   "cell_type": "code",
   "execution_count": 88,
   "metadata": {},
   "outputs": [
    {
     "data": {
      "text/plain": [
       "AttributeDict({'blockHash': HexBytes('0xffc9e0ac1f5d9de9f7212aeddcc5237f50154aca51f57bebff115911d2f1ca00'),\n",
       " 'blockNumber': 11276696,\n",
       " 'contractAddress': None,\n",
       " 'cumulativeGasUsed': 21000,\n",
       " 'effectiveGasPrice': 50000000000,\n",
       " 'from': '0xDB957d801E7b1a53D8E932f6D302012A25D8388B',\n",
       " 'gasUsed': 21000,\n",
       " 'logs': [],\n",
       " 'logsBloom': HexBytes('0x00000000000000000000000000000000000000000000000000000000000000000000000000000000000000000000000000000000000000000000000000000000000000000000000000000000000000000000000000000000000000000000000000000000000000000000000000000000000000000000000000000000000000000000000000000000000000000000000000000000000000000000000000000000000000000000000000000000000000000000000000000000000000000000000000000000000000000000000000000000000000000000000000000000000000000000000000000000000000000000000000000000000000000000000000000000'),\n",
       " 'status': 1,\n",
       " 'to': '0x83b8E4C91Cd770F2ef10105A5c00BC7b94279087',\n",
       " 'transactionHash': HexBytes('0x1ef16afd8fcd154cd990ab87d8cd1c288ed5bf89b32707af6277d2847dbfd636'),\n",
       " 'transactionIndex': 0,\n",
       " 'type': '0x0'})"
      ]
     },
     "execution_count": 88,
     "metadata": {},
     "output_type": "execute_result"
    }
   ],
   "source": []
  },
  {
   "cell_type": "code",
   "execution_count": null,
   "metadata": {},
   "outputs": [],
   "source": []
  }
 ],
 "metadata": {
  "interpreter": {
   "hash": "963441cfd7a3ecdae0aa07ac574bb8318b63bfd59f9d46e6a35441c26e35ec03"
  },
  "kernelspec": {
   "display_name": "Python 3.9.7 64-bit",
   "name": "python3"
  },
  "language_info": {
   "codemirror_mode": {
    "name": "ipython",
    "version": 3
   },
   "file_extension": ".py",
   "mimetype": "text/x-python",
   "name": "python",
   "nbconvert_exporter": "python",
   "pygments_lexer": "ipython3",
   "version": "3.9.7"
  },
  "orig_nbformat": 4
 },
 "nbformat": 4,
 "nbformat_minor": 2
}
